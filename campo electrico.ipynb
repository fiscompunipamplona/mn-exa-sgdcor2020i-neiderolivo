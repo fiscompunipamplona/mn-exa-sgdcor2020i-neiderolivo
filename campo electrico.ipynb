{
 "cells": [
  {
   "cell_type": "code",
   "execution_count": 1,
   "metadata": {},
   "outputs": [],
   "source": [
    "from numpy import cos,sin,pi,zeros\n",
    "from pylab import *"
   ]
  },
  {
   "cell_type": "code",
   "execution_count": 2,
   "metadata": {
    "scrolled": true
   },
   "outputs": [
    {
     "name": "stdout",
     "output_type": "stream",
     "text": [
      "83447323432.76733 3.201334973389847e-07\n"
     ]
    }
   ],
   "source": [
    "l=5   #Longitud de la linea\n",
    "landa=5  #Densidad de carga lineal [C/m]\n",
    "E_o=8.854187817e-12 #Permitividad eléctrica del vacío \n",
    "a=-l/2  #limite superior \n",
    "b=l/2   # limite inferior \n",
    "N=1000  \n",
    "h=(b-a)/N\n",
    "\n",
    "\n",
    "def Ey(y):   #  funcíon que calcula el valor del campo en y\n",
    "    \n",
    "    def f(x):      #funcion de  la integral de campo\n",
    "        return  y/((x**2+y**2)**(3/2))\n",
    "    if y!=0:\n",
    "        #Fab=f(a)+f(b)    \n",
    "    \n",
    "        impar=0\n",
    "        par=0\n",
    "    \n",
    "        for k in range(1,N,2):                 # método de Simpson para calcular la integral\n",
    "            impar+=f(a+k*h)\n",
    "\n",
    "        for k in range(2,N,2):\n",
    "            par+=f(a+k*h)\n",
    "        \n",
    "        I=(h/3)*(landa/(4*pi*E_o))*(f(a) + f(b)+4*impar+2*par)   \n",
    "        \n",
    "        return I\n",
    "    \n",
    "    else:\n",
    "        return 0\n",
    "def Ex(y):\n",
    "    \n",
    "    if y!=0:\n",
    "        def g(t):\n",
    "            return t/((t**2+y**2)**(3/2))\n",
    "        imp=0.0\n",
    "        pr=0.0\n",
    "        Fab1=g(a)+g(b)\n",
    "        for k in range(1,N,2):    #  método de Simpson para calcular la integral\n",
    "            imp+=g(a+k*h)\n",
    "\n",
    "        for k in range(2,N,2):\n",
    "            pr+=g(a+k*h)\n",
    "            \n",
    "        I=(h/3)*(landa/(4*pi*E_o))*(g(a)+g(b)+4*imp+2*pr)  \n",
    "        return I\n",
    "    else:\n",
    "        return 0\n",
    "\n",
    "print(Ey(1),Ex(1))  # ejemplo si calculamos la integral en y=1"
   ]
  },
  {
   "cell_type": "code",
   "execution_count": 3,
   "metadata": {},
   "outputs": [
    {
     "data": {
      "image/png": "[encoded data removed]",
      "text/plain": [
       "<Figure size 432x288 with 1 Axes>"
      ]
     },
     "metadata": {
      "needs_background": "light"
     },
     "output_type": "display_data"
    }
   ],
   "source": [
    "s=arange(-5,5, 0.1)      # Vector coordenado para el eje X \n",
    "m=arange(-5,5, 0.1)      # Vector coordenado para el eje Y\n",
    "X=zeros(100)\n",
    "Y=zeros(100)\n",
    "for i in range(100):\n",
    "    X[i]=Ex(s[i])\n",
    "    Y[i]=Ey(s[i])\n",
    "\n",
    "XX, YY= meshgrid(X,Y) \n",
    "\n",
    "r=sqrt(XX**2+YY**2)\n",
    "\n",
    "\n",
    "imshow(r,extent=(-5,5,-5,5)) \n",
    "hot()\n",
    "show()"
   ]
  },
  {
   "cell_type": "markdown",
   "metadata": {},
   "source": [
    "profe al final no pude con lo de la grafica de la barra lo que esta ahi es el esfuerzo de varias horas  se que no es lo que tal vez usted pedia pero fue lo que salio y pues preferi hacer esto a no hacer nada "
   ]
  },
  {
   "cell_type": "code",
   "execution_count": null,
   "metadata": {},
   "outputs": [],
   "source": []
  }
 ],
 "metadata": {
  "kernelspec": {
   "display_name": "Python 3",
   "language": "python",
   "name": "python3"
  },
  "language_info": {
   "codemirror_mode": {
    "name": "ipython",
    "version": 3
   },
   "file_extension": ".py",
   "mimetype": "text/x-python",
   "name": "python",
   "nbconvert_exporter": "python",
   "pygments_lexer": "ipython3",
   "version": "3.7.7"
  }
 },
 "nbformat": 4,
 "nbformat_minor": 4
}
